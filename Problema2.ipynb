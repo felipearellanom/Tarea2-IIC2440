{
  "nbformat": 4,
  "nbformat_minor": 0,
  "metadata": {
    "colab": {
      "provenance": []
    },
    "kernelspec": {
      "name": "python3",
      "display_name": "Python 3"
    },
    "language_info": {
      "name": "python"
    }
  },
  "cells": [
    {
      "cell_type": "code",
      "source": [
        "!pip install pyspark"
      ],
      "metadata": {
        "colab": {
          "base_uri": "https://localhost:8080/"
        },
        "id": "tLtNxaq4Ug0-",
        "outputId": "102b1a85-c5d9-4ae4-a834-063e539fbdb9"
      },
      "execution_count": 4,
      "outputs": [
        {
          "output_type": "stream",
          "name": "stdout",
          "text": [
            "Collecting pyspark\n",
            "  Downloading pyspark-3.4.1.tar.gz (310.8 MB)\n",
            "\u001b[2K     \u001b[90m━━━━━━━━━━━━━━━━━━━━━━━━━━━━━━━━━━━━━━━\u001b[0m \u001b[32m310.8/310.8 MB\u001b[0m \u001b[31m4.7 MB/s\u001b[0m eta \u001b[36m0:00:00\u001b[0m\n",
            "\u001b[?25h  Preparing metadata (setup.py) ... \u001b[?25l\u001b[?25hdone\n",
            "Requirement already satisfied: py4j==0.10.9.7 in /usr/local/lib/python3.10/dist-packages (from pyspark) (0.10.9.7)\n",
            "Building wheels for collected packages: pyspark\n",
            "  Building wheel for pyspark (setup.py) ... \u001b[?25l\u001b[?25hdone\n",
            "  Created wheel for pyspark: filename=pyspark-3.4.1-py2.py3-none-any.whl size=311285398 sha256=67f0ceafdca61a4cd68fe109344e2d6f869a298cb83ae640b99f6f09069d74ad\n",
            "  Stored in directory: /root/.cache/pip/wheels/0d/77/a3/ff2f74cc9ab41f8f594dabf0579c2a7c6de920d584206e0834\n",
            "Successfully built pyspark\n",
            "Installing collected packages: pyspark\n",
            "Successfully installed pyspark-3.4.1\n"
          ]
        }
      ]
    },
    {
      "cell_type": "code",
      "source": [
        "from pyspark.sql import SparkSession\n",
        "\n",
        "spark = SparkSession.builder \\\n",
        "    .getOrCreate()\n",
        "\n",
        "sc = spark.sparkContext\n",
        "sc"
      ],
      "metadata": {
        "colab": {
          "base_uri": "https://localhost:8080/",
          "height": 196
        },
        "id": "2qmt6VtxUibl",
        "outputId": "e6584d47-e41e-4707-c9c9-137debf69389"
      },
      "execution_count": 5,
      "outputs": [
        {
          "output_type": "execute_result",
          "data": {
            "text/plain": [
              "<SparkContext master=local[*] appName=pyspark-shell>"
            ],
            "text/html": [
              "\n",
              "        <div>\n",
              "            <p><b>SparkContext</b></p>\n",
              "\n",
              "            <p><a href=\"http://131709b9297a:4040\">Spark UI</a></p>\n",
              "\n",
              "            <dl>\n",
              "              <dt>Version</dt>\n",
              "                <dd><code>v3.4.1</code></dd>\n",
              "              <dt>Master</dt>\n",
              "                <dd><code>local[*]</code></dd>\n",
              "              <dt>AppName</dt>\n",
              "                <dd><code>pyspark-shell</code></dd>\n",
              "            </dl>\n",
              "        </div>\n",
              "        "
            ]
          },
          "metadata": {},
          "execution_count": 5
        }
      ]
    },
    {
      "cell_type": "code",
      "execution_count": 73,
      "metadata": {
        "id": "RjMDUG0aSpen"
      },
      "outputs": [],
      "source": [
        "from random import randint\n",
        "def CreateRandomEdges(numberNodes):\n",
        "  edges=[]\n",
        "  for x in range(numberNodes):\n",
        "    for y in range(numberNodes):\n",
        "      if x==y:\n",
        "        continue\n",
        "      if randint(1,10) == 10:\n",
        "        edges.append((x, y, randint(1,30)))\n",
        "  return edges"
      ]
    },
    {
      "cell_type": "code",
      "source": [
        "def PrepararMensaje(oldShortestPath, edgesRDD):\n",
        "  # print(oldShortestPath.collect())\n",
        "  # print(edgesRDD.keys().collect())\n",
        "  # print(edgesRDD.collect())\n",
        "  joined = oldShortestPath.leftOuterJoin(edgesRDD,3)\n",
        "  mapped = joined.values().map(lambda x: (x[1][0], x[0]+x[1][1]))\n",
        "  seqFunc = (lambda x, y: (min(x,y)))\n",
        "  combFunc = (lambda x, y: (min(x,y)))\n",
        "\n",
        "  aggregate = mapped.aggregateByKey(30000, seqFunc, combFunc)\n",
        "  nearlyThere = aggregate.leftOuterJoin(oldShortestPath)\n",
        "  final = nearlyThere.mapValues(lambda x: min(x[0],x[1]))\n",
        "  # print(sorted(final.collect()))\n",
        "  return final"
      ],
      "metadata": {
        "id": "HHNR9jLvWtJf"
      },
      "execution_count": 68,
      "outputs": []
    },
    {
      "cell_type": "code",
      "source": [
        "def UpdateShortestPath(oldShortestPath,agregate):\n",
        "  pass"
      ],
      "metadata": {
        "id": "h-fF3C7NXC4F"
      },
      "execution_count": 69,
      "outputs": []
    },
    {
      "cell_type": "code",
      "source": [
        "def GetShortestPath(initialShortestPath, edges):\n",
        "  oldShortestPath = initialShortestPath\n",
        "  for x in range(1000):\n",
        "    newShortestPath = PrepararMensaje(oldShortestPath, edges)\n",
        "    # newShortestPath = UpdateShortestPath(oldShortestPath,agregate)\n",
        "    if sorted(oldShortestPath.collect()) == sorted(newShortestPath.collect()):\n",
        "      break\n",
        "    oldShortestPath = newShortestPath\n",
        "  return newShortestPath"
      ],
      "metadata": {
        "id": "lTRu9Ey7WEhW"
      },
      "execution_count": 70,
      "outputs": []
    },
    {
      "cell_type": "code",
      "source": [
        "def FullShortestPath(nodes, edges, initialNode):\n",
        "  nodesRDD = sc.parallelize(nodes)\n",
        "  edgesRDD = sc.parallelize(map(lambda x: (x[0],(x[1],x[2])),edges))\n",
        "  initialShortestPath = nodesRDD.map(lambda x: (x,len(nodes)*30) if x!=initialNode else (x,0))\n",
        "  # print(initialShortestPath.collect())\n",
        "  return GetShortestPath(initialShortestPath, edgesRDD)"
      ],
      "metadata": {
        "id": "8iSBkojpUqBD"
      },
      "execution_count": 76,
      "outputs": []
    },
    {
      "cell_type": "code",
      "source": [
        "edges = CreateRandomEdges(100)\n",
        "# print(edges)\n",
        "print(sorted(FullShortestPath([x for x in range(100)],edges,0).collect()))"
      ],
      "metadata": {
        "colab": {
          "base_uri": "https://localhost:8080/"
        },
        "id": "rBE58pCLYHts",
        "outputId": "791fadeb-adbb-4d90-cd6a-a7ba73b74bf0"
      },
      "execution_count": 78,
      "outputs": [
        {
          "output_type": "stream",
          "name": "stdout",
          "text": [
            "[(0, 0), (1, 15), (2, 10), (3, 12), (4, 14), (5, 17), (6, 13), (7, 14), (8, 4), (9, 15), (10, 18), (11, 12), (12, 18), (13, 10), (14, 24), (15, 10), (16, 21), (17, 20), (18, 13), (19, 15), (20, 15), (21, 8), (22, 17), (23, 12), (24, 13), (25, 17), (26, 13), (27, 15), (28, 20), (29, 13), (30, 12), (31, 19), (32, 17), (33, 13), (34, 22), (35, 3), (36, 16), (37, 20), (38, 19), (39, 22), (40, 18), (41, 5), (42, 15), (43, 10), (44, 16), (45, 15), (46, 16), (47, 10), (48, 18), (49, 13), (50, 10), (51, 20), (52, 19), (53, 10), (54, 20), (55, 13), (56, 7), (57, 15), (58, 28), (59, 19), (60, 13), (61, 8), (62, 16), (63, 16), (64, 10), (65, 23), (66, 8), (67, 20), (68, 16), (69, 22), (70, 21), (71, 18), (72, 16), (73, 22), (74, 10), (75, 12), (76, 9), (77, 21), (78, 15), (79, 21), (80, 21), (81, 18), (82, 14), (83, 17), (84, 11), (85, 18), (86, 18), (87, 16), (88, 12), (89, 12), (90, 15), (91, 5), (92, 8), (93, 18), (94, 12), (95, 18), (96, 12), (97, 15), (98, 17), (99, 13)]\n"
          ]
        }
      ]
    }
  ]
}